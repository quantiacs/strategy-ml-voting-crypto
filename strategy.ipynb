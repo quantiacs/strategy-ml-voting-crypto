{
 "cells": [
  {
   "cell_type": "markdown",
   "metadata": {},
   "source": [
    "# Machine learning - ML Backtest - VotingClassifier\n",
    "\n",
    "Your user account:\n",
    "\n",
    "* [User account](https://quantiacs.io/personalpage/homepage)\n",
    "\n",
    "Documentation:\n",
    "\n",
    "* [Documentation](https://quantiacs.io/documentation/en/)\n",
    "\n",
    "\n",
    "**Strategy idea:** We will open cryptofutures positions as predicted by the **RidgeClassifier** and **SGDClassifier**.\n",
    "\n",
    "We will use specialized backtester for this purpose, it will dramatically speed up the backtesting.\n",
    "\n",
    "**Features for learning** - the logarithm of closing prices for the last 18 days"
   ]
  },
  {
   "cell_type": "code",
   "execution_count": 9,
   "metadata": {},
   "outputs": [
    {
     "data": {
      "application/javascript": [
       "window.IPython && (IPython.OutputArea.prototype._should_scroll = function(lines) { return false; })\n",
       "// disable widget scrolling\n"
      ],
      "text/plain": [
       "<IPython.core.display.Javascript object>"
      ]
     },
     "metadata": {},
     "output_type": "display_data"
    }
   ],
   "source": [
    "%%javascript\n",
    "window.IPython && (IPython.OutputArea.prototype._should_scroll = function(lines) { return false; })\n",
    "// disable widget scrolling"
   ]
  },
  {
   "cell_type": "code",
   "execution_count": 6,
   "metadata": {},
   "outputs": [
    {
     "name": "stdout",
     "output_type": "stream",
     "text": [
      "Run the last iteration...\n",
      "Output cleaning...\n",
      "ffill if the current price is None...\n",
      "Check missed dates...\n",
      "Ok.\n",
      "Normalization...\n",
      "Output cleaning is complete.\n",
      "Write output: /root/fractions.nc.gz\n",
      "State saved.\n",
      "Run all iterations...\n",
      "Load data...\n",
      "Backtest...\n"
     ]
    },
    {
     "name": "stderr",
     "output_type": "stream",
     "text": [
      " 99% (1832 of 1833) |################### | Elapsed Time: 0:00:24 ETA:   0:00:00"
     ]
    },
    {
     "name": "stdout",
     "output_type": "stream",
     "text": [
      "Output cleaning...\n",
      "ffill if the current price is None...\n",
      "Check missed dates...\n",
      "Ok.\n",
      "Normalization...\n",
      "Output cleaning is complete.\n",
      "Write output: /root/fractions.nc.gz\n",
      "State saved.\n",
      "---\n",
      "Analyze results...\n",
      "Check...\n",
      "Check missed dates...\n",
      "Ok.\n",
      "Check the sharpe ratio...\n",
      "Period: 2014-01-01 - 2021-04-22\n",
      "Sharpe Ratio = 1.4491092678749882\n",
      "Ok.\n",
      "Check correlation.\n",
      "\n",
      "Ok. This strategy does not correlate with other strategies.\n",
      "---\n",
      "Calc global stats...\n",
      "---\n",
      "Calc stats per asset...\n",
      "Build plots...\n",
      "---\n",
      "Select the asset (or leave blank to display the overall stats):\n"
     ]
    },
    {
     "data": {
      "application/vnd.jupyter.widget-view+json": {
       "model_id": "8f3bc9302de94410855297cce49354d2",
       "version_major": 2,
       "version_minor": 0
      },
      "text/plain": [
       "interactive(children=(Combobox(value='', description='asset', options=('', 'BTC')), Output()), _dom_classes=('…"
      ]
     },
     "metadata": {},
     "output_type": "display_data"
    },
    {
     "name": "stderr",
     "output_type": "stream",
     "text": [
      "100% (1833 of 1833) |####################| Elapsed Time: 0:00:25 Time:  0:00:25\n"
     ]
    }
   ],
   "source": [
    "import logging\n",
    "\n",
    "import pandas as pd\n",
    "import xarray as xr\n",
    "import numpy as np\n",
    "\n",
    "import qnt.backtester as qnbt\n",
    "import qnt.ta as qnta\n",
    "\n",
    "\n",
    "# constructor for ML model, you can use almost any ML classifier\n",
    "def create_model():\n",
    "    from sklearn.ensemble import VotingClassifier\n",
    "    from sklearn.linear_model import SGDClassifier, RidgeClassifier\n",
    "    import random\n",
    "    # We will use model combined from RidgeClassifier and SGDClassifier.\n",
    "    # Also we use several random seeds to reduce impact of random.\n",
    "    classifiers = []\n",
    "    r = random.Random(13)\n",
    "    for i in range(42):\n",
    "        classifiers.append(('ridge' + str(i), RidgeClassifier(random_state=r.randint(0, pow(2, 32) - 1)),))\n",
    "        classifiers.append(('sgd' + str(i), SGDClassifier(random_state=r.randint(0, pow(2, 32) - 1)),))\n",
    "    model = VotingClassifier(classifiers)\n",
    "\n",
    "    return model\n",
    "\n",
    "\n",
    "# Builds features for learning.\n",
    "def get_features(data):\n",
    "    trend = qnta.roc(qnta.lwma(data.sel(field=\"close\"), 70), 1)\n",
    "\n",
    "    k, d = qnta.stochastic(data.sel(field=\"high\"), data.sel(field=\"low\"), data.sel(field=\"close\"), 14)\n",
    "\n",
    "    volatility = qnta.tr(data.sel(field=\"high\"), data.sel(field=\"low\"), data.sel(field=\"close\"))\n",
    "    volatility = volatility / data.sel(field=\"close\")\n",
    "    volatility = qnta.lwma(volatility, 14)\n",
    "\n",
    "    volume = data.sel(field=\"vol\")\n",
    "    volume = qnta.sma(volume, 5) / qnta.sma(volume, 60)\n",
    "    volume = volume.where(np.isfinite(volume), 0)\n",
    "\n",
    "    # combine features to one array\n",
    "    result = xr.concat(\n",
    "        [trend, d, volatility, volume ],\n",
    "        pd.Index(\n",
    "            ['trend', 'stochastic_d', 'volatility', 'volume'],\n",
    "            name='field'\n",
    "        )\n",
    "    )\n",
    "    return result.transpose('time', 'field', 'asset')\n",
    "\n",
    "\n",
    "def get_target_classes(data):\n",
    "    # for classifiers, you need to set classes\n",
    "    # if 1 then the price will rise tomorrow\n",
    "\n",
    "    price_current = data.sel(field=\"close\")\n",
    "    price_future = qnta.shift(price_current, -1)\n",
    "\n",
    "    class_positive = 1\n",
    "    class_negative = 0\n",
    "\n",
    "    target_is_price_up = xr.where(price_future > price_current, class_positive, class_negative)\n",
    "    return target_is_price_up\n",
    "\n",
    "\n",
    "# creates and trains models\n",
    "# one ML model per asset\n",
    "def create_and_train_models(data):\n",
    "    asset_name_all = data.coords['asset'].values\n",
    "\n",
    "    data = data.sel(time=slice('2013-05-01',None))  # cut the head before 2013-05-01 (a lot of noise)\n",
    "\n",
    "    features_all = get_features(data)\n",
    "    target_all = get_target_classes(data)\n",
    "\n",
    "    models = dict()\n",
    "\n",
    "    for asset_name in asset_name_all:\n",
    "        target_cur = target_all.sel(asset=asset_name).dropna('time', 'any')\n",
    "        features_cur = features_all.sel(asset=asset_name).dropna('time', 'any')\n",
    "\n",
    "        # align features and targets\n",
    "        target_for_learn_df, feature_for_learn_df = xr.align(target_cur, features_cur, join='inner')\n",
    "\n",
    "        if len(features_cur.time) < 10:\n",
    "            # not enough points for training\n",
    "            continue\n",
    "\n",
    "        model = create_model()\n",
    "        try:\n",
    "            model.fit(feature_for_learn_df.values, target_for_learn_df)\n",
    "            models[asset_name] = model\n",
    "        except KeyboardInterrupt as e:\n",
    "            raise e\n",
    "        except:\n",
    "            logging.exception(\"model training failed\")\n",
    "\n",
    "    return models\n",
    "\n",
    "\n",
    "# performs prediction and generates output weights\n",
    "# it generates output for several days in order to speed up the evaluation\n",
    "def predict(models, data):\n",
    "    asset_name_all = data.coords['asset'].values\n",
    "    weights = xr.zeros_like(data.sel(field=\"close\"))\n",
    "    for asset_name in asset_name_all:\n",
    "        if asset_name in models:\n",
    "            model = models[asset_name]\n",
    "            features_all = get_features(data)\n",
    "            features_cur = features_all.sel(asset=asset_name).dropna('time','any')\n",
    "            if len(features_cur.time) < 1:\n",
    "                continue\n",
    "            try:\n",
    "                weights.loc[dict(asset=asset_name,time=features_cur.time.values)] = model.predict(features_cur.values)\n",
    "            except KeyboardInterrupt as e:\n",
    "                raise e\n",
    "            except:\n",
    "                logging.exception(\"model prediction failed\")\n",
    "    return weights\n",
    "\n",
    "\n",
    "# runs the backtester\n",
    "weights = qnbt.backtest_ml(\n",
    "    train=create_and_train_models,\n",
    "    predict=predict,\n",
    "    train_period=10*365,   # the data length for training in calendar days\n",
    "    retrain_interval=365,  # how often we have to retrain models (calendar days)\n",
    "    retrain_interval_after_submit=1, # how often retrain models after submit during evaluation (calendar days)\n",
    "    predict_each_day=False,  # is it necessary to call predict for each day.\n",
    "                             # Set true if you suspect that get_features is looking forward.\n",
    "    competition_type='cryptofutures',  # competition type\n",
    "    lookback_period=365,  # how many calendars the predict function needs to generate the output\n",
    "    start_date='2014-01-01',  # backtest start date\n",
    "    build_plots=True  # do you need the chart?\n",
    ")\n"
   ]
  }
 ],
 "metadata": {
  "kernelspec": {
   "display_name": "Python 3",
   "language": "python",
   "name": "python3"
  },
  "language_info": {
   "codemirror_mode": {
    "name": "ipython",
    "version": 3
   },
   "file_extension": ".py",
   "mimetype": "text/x-python",
   "name": "python",
   "nbconvert_exporter": "python",
   "pygments_lexer": "ipython3",
   "version": "3.7.10"
  }
 },
 "nbformat": 4,
 "nbformat_minor": 4
}
