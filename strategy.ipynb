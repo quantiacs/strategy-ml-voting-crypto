{
 "cells": [
  {
   "cell_type": "markdown",
   "metadata": {},
   "source": [
    "# Machine Learning with a Voting Classifier: Retraining your Model \n",
    "\n",
    "With Quantiacs you can use machine learning methods for forecasting financial time series.\n",
    "\n",
    "In this template we show how to use the Quantiacs toolkit for efficiently **retraining** your model on a rolling basis.\n",
    "\n",
    "We will work with the BTC Futures Contracts and use voting on top of a combination of  **Ridge Classifiers** and **Stochastic Gradient Descent Classifiers** as implemented in [**scikit-learn**](https://scikit-learn.org/stable/).\n",
    "\n",
    "We will use a **specialized** version of the Quantiacs backtester for this purpose, which dramatically speeds up the backtesting process when the models should be retrained on a regular basis.\n",
    "\n",
    "**Need help?** Check the [**Documentation**](https://quantiacs.com/documentation/en/) and find solutions/report problems in the [**Forum**](https://quantiacs.com/community/categories) section.\n",
    "\n",
    "**More help with Jupyter?** Check the official [**Jupyter**](https://jupyter.org/) page.\n",
    "\n",
    "Once you are done, click on **Submit to the contest** and take part to our competitions.\n",
    "\n",
    "API reference:\n",
    "\n",
    "* **data**: check how to work with [data](https://quantiacs.com/documentation/en/reference/data_load_functions.html);\n",
    "\n",
    "* **backtesting**: read how to run the [simulation](https://quantiacs.com/documentation/en/reference/evaluation.html) and check the results."
   ]
  },
  {
   "cell_type": "code",
   "execution_count": null,
   "metadata": {},
   "outputs": [],
   "source": [
    "%%javascript\n",
    "window.IPython && (IPython.OutputArea.prototype._should_scroll = function(lines) { return false; })\n",
    "// disable widget scrolling"
   ]
  },
  {
   "cell_type": "code",
   "execution_count": null,
   "metadata": {},
   "outputs": [],
   "source": [
    "import logging\n",
    "\n",
    "import pandas as pd\n",
    "import xarray as xr\n",
    "import numpy as np\n",
    "\n",
    "import qnt.backtester as qnbt\n",
    "import qnt.ta as qnta"
   ]
  },
  {
   "cell_type": "code",
   "execution_count": null,
   "metadata": {},
   "outputs": [],
   "source": [
    "def create_model():\n",
    "    \"\"\"This is a constructor for the ML model which can be easily modified using\n",
    "       different models or another logic for the combination.\n",
    "    \"\"\"\n",
    "    \n",
    "    from sklearn.ensemble import VotingClassifier\n",
    "    from sklearn.linear_model import SGDClassifier, RidgeClassifier\n",
    "    import random\n",
    "    \n",
    "    # We will use a model obtained combining by voting Ridge Classifiers and SGD Classifiers\n",
    "    # which use several random seeds to reduce overfitting:\n",
    "    classifiers = []\n",
    "    r = random.Random(13)\n",
    "    for i in range(42):\n",
    "        classifiers.append(('ridge' + str(i), RidgeClassifier(random_state=r.randint(0, pow(2, 32) - 1)),))\n",
    "        classifiers.append(('sgd' + str(i), SGDClassifier(random_state=r.randint(0, pow(2, 32) - 1)),))\n",
    "    model = VotingClassifier(classifiers)\n",
    "\n",
    "    return model"
   ]
  },
  {
   "cell_type": "code",
   "execution_count": null,
   "metadata": {},
   "outputs": [],
   "source": [
    "def get_features(data):\n",
    "    \"\"\"Builds the features used for learning:\n",
    "       * a trend indicator;\n",
    "       * the stochastic oscillator;\n",
    "       * volatility;\n",
    "       * volume.\n",
    "    \"\"\"\n",
    "    \n",
    "    trend = qnta.roc(qnta.lwma(data.sel(field='close'), 70), 1)\n",
    "\n",
    "    # stochastic oscillator:\n",
    "    k, d = qnta.stochastic(data.sel(field='high'), data.sel(field='low'), data.sel(field='close'), 14)\n",
    "\n",
    "    volatility = qnta.tr(data.sel(field='high'), data.sel(field='low'), data.sel(field='close'))\n",
    "    volatility = volatility / data.sel(field='close')\n",
    "    volatility = qnta.lwma(volatility, 14)\n",
    "\n",
    "    volume = data.sel(field='vol')\n",
    "    volume = qnta.sma(volume, 5) / qnta.sma(volume, 60)\n",
    "    volume = volume.where(np.isfinite(volume), 0)\n",
    "\n",
    "    # combine the selected four features:\n",
    "    result = xr.concat(\n",
    "        [trend, d, volatility, volume],\n",
    "        pd.Index(\n",
    "            ['trend', 'stochastic_d', 'volatility', 'volume'],\n",
    "            name = 'field'\n",
    "        )\n",
    "    )\n",
    "    \n",
    "    return result.transpose('time', 'field', 'asset')"
   ]
  },
  {
   "cell_type": "code",
   "execution_count": null,
   "metadata": {},
   "outputs": [],
   "source": [
    "def get_target_classes(data):\n",
    "    \"\"\"Builds target classes which will be later predicted.\"\"\"\n",
    "\n",
    "    price_current = data.sel(field='close')\n",
    "    price_future = qnta.shift(price_current, -1)\n",
    "\n",
    "    class_positive = 1\n",
    "    class_negative = 0\n",
    "\n",
    "    target_is_price_up = xr.where(price_future > price_current, class_positive, class_negative)\n",
    "    \n",
    "    return target_is_price_up"
   ]
  },
  {
   "cell_type": "code",
   "execution_count": null,
   "metadata": {},
   "outputs": [],
   "source": [
    "def create_and_train_models(data):\n",
    "    \"\"\"Create and train the models working on an asset-by-asset basis.\"\"\"\n",
    "    \n",
    "    asset_name_all = data.coords['asset'].values\n",
    "\n",
    "    data = data.sel(time=slice('2013-05-01',None)) # cut the noisy data head before 2013-05-01\n",
    "\n",
    "    features_all = get_features(data)\n",
    "    target_all = get_target_classes(data)\n",
    "\n",
    "    models = dict()\n",
    "\n",
    "    for asset_name in asset_name_all:\n",
    "        \n",
    "        # drop missing values:\n",
    "        target_cur = target_all.sel(asset=asset_name).dropna('time', 'any')\n",
    "        features_cur = features_all.sel(asset=asset_name).dropna('time', 'any')\n",
    "\n",
    "        # align features and targets:\n",
    "        target_for_learn_df, feature_for_learn_df = xr.align(target_cur, features_cur, join='inner')\n",
    "\n",
    "        if len(features_cur.time) < 10:\n",
    "            # not enough points for training\n",
    "            continue\n",
    "\n",
    "        model = create_model()\n",
    "        \n",
    "        try:\n",
    "            model.fit(feature_for_learn_df.values, target_for_learn_df)\n",
    "            models[asset_name] = model\n",
    "        except KeyboardInterrupt as e:\n",
    "            raise e\n",
    "        except:\n",
    "            logging.exception('model training failed')\n",
    "\n",
    "    return models"
   ]
  },
  {
   "cell_type": "code",
   "execution_count": null,
   "metadata": {},
   "outputs": [],
   "source": [
    "def predict(models, data):\n",
    "    \"\"\"Performs prediction and generates output weights.\n",
    "       Generation is performed for several days in order to speed \n",
    "       up the evaluation.\n",
    "    \"\"\"\n",
    "    \n",
    "    asset_name_all = data.coords['asset'].values\n",
    "    weights = xr.zeros_like(data.sel(field='close'))\n",
    "    \n",
    "    for asset_name in asset_name_all:\n",
    "        if asset_name in models:\n",
    "            model = models[asset_name]\n",
    "            features_all = get_features(data)\n",
    "            features_cur = features_all.sel(asset=asset_name).dropna('time','any')\n",
    "            if len(features_cur.time) < 1:\n",
    "                continue\n",
    "            try:\n",
    "                weights.loc[dict(asset=asset_name,time=features_cur.time.values)] = model.predict(features_cur.values)\n",
    "            except KeyboardInterrupt as e:\n",
    "                raise e\n",
    "            except:\n",
    "                logging.exception('model prediction failed')\n",
    "                \n",
    "    return weights"
   ]
  },
  {
   "cell_type": "markdown",
   "metadata": {},
   "source": [
    "The following cell runs the backtester into **Machine Learning retraining** mode. We specify the maximal length of the training period and the interval for retraining. Note that it is possible tor retrain the model every day after submissions to the Quantiacs servers."
   ]
  },
  {
   "cell_type": "code",
   "execution_count": null,
   "metadata": {},
   "outputs": [],
   "source": [
    "weights = qnbt.backtest_ml(\n",
    "    train=create_and_train_models,\n",
    "    predict=predict,\n",
    "    train_period=10*365,   # the data length for training in calendar days\n",
    "    retrain_interval=365,  # how often we have to retrain models (calendar days)\n",
    "    retrain_interval_after_submit=1, # how often retrain models after submission during evaluation (calendar days)\n",
    "    predict_each_day=False,  # Is it necessary to call prediction for every day during backtesting?\n",
    "                             # Set it to true if you suspect that get_features is looking forward.\n",
    "    competition_type='cryptofutures',  # competition type\n",
    "    lookback_period=365,      # how many calendar days are needed by the predict function to generate the output\n",
    "    start_date='2014-01-01',  # backtest start date\n",
    "    build_plots=True          # do you need the chart?\n",
    ")"
   ]
  }
 ],
 "metadata": {
  "kernelspec": {
   "display_name": "Python 3",
   "language": "python",
   "name": "python3"
  },
  "language_info": {
   "codemirror_mode": {
    "name": "ipython",
    "version": 3
   },
   "file_extension": ".py",
   "mimetype": "text/x-python",
   "name": "python",
   "nbconvert_exporter": "python",
   "pygments_lexer": "ipython3",
   "version": "3.7.10"
  }
 },
 "nbformat": 4,
 "nbformat_minor": 4
}
